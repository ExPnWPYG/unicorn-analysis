{
 "cells": [
  {
   "cell_type": "markdown",
   "id": "f1a254ae-e3fd-4b37-90fb-3be7e5883fbf",
   "metadata": {},
   "source": [
    "# Setup\n",
    "\n",
    "## Import Packages"
   ]
  },
  {
   "cell_type": "code",
   "execution_count": 3,
   "id": "11ce02f6-67bf-4387-8145-f1afd5430990",
   "metadata": {},
   "outputs": [
    {
     "ename": "ModuleNotFoundError",
     "evalue": "No module named 'pandas'",
     "output_type": "error",
     "traceback": [
      "\u001b[31m---------------------------------------------------------------------------\u001b[39m",
      "\u001b[31mModuleNotFoundError\u001b[39m                       Traceback (most recent call last)",
      "\u001b[36mCell\u001b[39m\u001b[36m \u001b[39m\u001b[32mIn[3]\u001b[39m\u001b[32m, line 1\u001b[39m\n\u001b[32m----> \u001b[39m\u001b[32m1\u001b[39m \u001b[38;5;28;01mimport\u001b[39;00m\u001b[38;5;250m \u001b[39m\u001b[34;01mpandas\u001b[39;00m\u001b[38;5;250m \u001b[39m\u001b[38;5;28;01mas\u001b[39;00m\u001b[38;5;250m \u001b[39m\u001b[34;01mpd\u001b[39;00m\n\u001b[32m      2\u001b[39m \u001b[38;5;28;01mimport\u001b[39;00m\u001b[38;5;250m \u001b[39m\u001b[34;01mnumpy\u001b[39;00m\u001b[38;5;250m \u001b[39m\u001b[38;5;28;01mas\u001b[39;00m\u001b[38;5;250m \u001b[39m\u001b[34;01mnp\u001b[39;00m\n\u001b[32m      3\u001b[39m \u001b[38;5;28;01mimport\u001b[39;00m\u001b[38;5;250m \u001b[39m\u001b[34;01mmatplotlib\u001b[39;00m\u001b[34;01m.\u001b[39;00m\u001b[34;01mpyplot\u001b[39;00m\u001b[38;5;250m \u001b[39m\u001b[38;5;28;01mas\u001b[39;00m\u001b[38;5;250m \u001b[39m\u001b[34;01mplt\u001b[39;00m\n",
      "\u001b[31mModuleNotFoundError\u001b[39m: No module named 'pandas'"
     ]
    }
   ],
   "source": [
    "import pandas as pd\n",
    "import numpy as np\n",
    "import matplotlib.pyplot as plt\n",
    "from matplotlib.ticker import FuncFormatter\n",
    "import seaborn as sns\n",
    "import re\n"
   ]
  },
  {
   "cell_type": "markdown",
   "id": "fc003daf-b466-49db-bc75-0f737b08bf02",
   "metadata": {},
   "source": [
    "# Data Preparation\n",
    "\n",
    "## Load Data"
   ]
  },
  {
   "cell_type": "code",
   "execution_count": 2,
   "id": "98c341d9-c636-4510-99df-7a6c19368e92",
   "metadata": {},
   "outputs": [
    {
     "ename": "NameError",
     "evalue": "name 'pd' is not defined",
     "output_type": "error",
     "traceback": [
      "\u001b[31m---------------------------------------------------------------------------\u001b[39m",
      "\u001b[31mNameError\u001b[39m                                 Traceback (most recent call last)",
      "\u001b[36mCell\u001b[39m\u001b[36m \u001b[39m\u001b[32mIn[2]\u001b[39m\u001b[32m, line 1\u001b[39m\n\u001b[32m----> \u001b[39m\u001b[32m1\u001b[39m \u001b[43mpd\u001b[49m.set_option(\u001b[33m'\u001b[39m\u001b[33mdisplay.max_columns\u001b[39m\u001b[33m'\u001b[39m, \u001b[32m50\u001b[39m, \u001b[33m'\u001b[39m\u001b[33mdisplay.width\u001b[39m\u001b[33m'\u001b[39m, \u001b[32m200\u001b[39m)\n\u001b[32m      2\u001b[39m df = pd.read_csv(\u001b[33m'\u001b[39m\u001b[33minput/Unicorns_Completed.csv\u001b[39m\u001b[33m'\u001b[39m)\n",
      "\u001b[31mNameError\u001b[39m: name 'pd' is not defined"
     ]
    }
   ],
   "source": [
    "pd.set_option('display.max_columns', 50, 'display.width', 200)\n",
    "df = pd.read_csv('input/Unicorns_Completed.csv')\n"
   ]
  },
  {
   "cell_type": "code",
   "execution_count": null,
   "id": "f16471fa-24e2-4ff7-943e-6733809037d7",
   "metadata": {},
   "outputs": [],
   "source": [
    "## Data Cleaning"
   ]
  },
  {
   "cell_type": "code",
   "execution_count": null,
   "id": "1f6faf70-d864-44e8-9f88-398a3204c881",
   "metadata": {},
   "outputs": [],
   "source": [
    "def convert_years_months(s):\n",
    "    m = re.match(r'(\\d+)y?\\s?(\\d+)m?o?', s)\n",
    "    return f'{m[1]}y{m[2]}m' if m else s\n",
    "\n",
    "df['Years to Unicorn'] = df['Years to Unicorn'].apply(convert_years_months)\n"
   ]
  },
  {
   "cell_type": "markdown",
   "id": "77de9d0e-b32d-4b05-b571-6c7391527325",
   "metadata": {},
   "source": [
    "## Prepare data"
   ]
  },
  {
   "cell_type": "code",
   "execution_count": null,
   "id": "63c2983e-0ce9-4dc3-a215-046bd1a63079",
   "metadata": {},
   "outputs": [],
   "source": [
    "df['Unicorn Date'] = pd.to_datetime(df['Unicorn Date'])\n",
    "df['Valuation ($B)'] = pd.to_numeric(df['Valuation ($B)'])\n"
   ]
  },
  {
   "cell_type": "markdown",
   "id": "8c7521ad-88bc-42be-baeb-f54a5444551a",
   "metadata": {},
   "source": [
    "## Preview data"
   ]
  },
  {
   "cell_type": "code",
   "execution_count": null,
   "id": "81575ee4-aa00-4fcb-b822-59958362cbf8",
   "metadata": {},
   "outputs": [],
   "source": [
    "df.head()\n"
   ]
  },
  {
   "cell_type": "markdown",
   "id": "6f42ad92-1657-45a2-9ae9-8f906cf3dc2d",
   "metadata": {},
   "source": [
    "# Descriptive Analysis\n",
    "\n",
    "## Distribution of Valuations across Different Industries"
   ]
  },
  {
   "cell_type": "code",
   "execution_count": null,
   "id": "6975bf86-f5e4-4958-a829-95635d636185",
   "metadata": {},
   "outputs": [],
   "source": [
    "# Group by industry and sum valuations\n",
    "industry_valuation_df = df.groupby('Industry')['Valuation ($B)'].sum().reset_index().sort_values('Valuation ($B)', ascending=False)\n",
    "industry_valuation_df\n"
   ]
  },
  {
   "cell_type": "code",
   "execution_count": null,
   "id": "21ba6c95-8398-4d36-909a-af263fbadce5",
   "metadata": {},
   "outputs": [],
   "source": [
    "plt.figure(figsize=(12, 6))\n",
    "plt.barh(industry_valuation_df['Industry'], industry_valuation_df['Valuation ($B)'], color='skyblue')\n",
    "plt.title('Distribution of Valuations across Different Industries')\n",
    "plt.xlabel('Total Valuation ($B)')\n",
    "plt.ylabel('Industry')\n",
    "plt.grid(axis='x', alpha=0.75)\n"
   ]
  },
  {
   "cell_type": "markdown",
   "id": "bb14676e-5ada-4680-bac9-d0b2d6d1f723",
   "metadata": {},
   "source": [
    "## Distribution of Valuations across Different Countries"
   ]
  },
  {
   "cell_type": "code",
   "execution_count": null,
   "id": "eaf485d4-8587-4e84-9626-c8583cdb2583",
   "metadata": {},
   "outputs": [],
   "source": [
    "# Group by Country and sum valuations\n",
    "country_valuation_df = df.groupby('Country')['Valuation ($B)'].sum().reset_index().sort_values('Valuation ($B)', ascending=False).head(20)\n",
    "country_valuation_df\n"
   ]
  },
  {
   "cell_type": "code",
   "execution_count": null,
   "id": "7fb4356d-f643-4676-afde-b010a97172a0",
   "metadata": {},
   "outputs": [],
   "source": [
    "plt.figure(figsize=(12, 8))\n",
    "plt.barh(country_valuation_df['Country'], country_valuation_df['Valuation ($B)'])\n",
    "plt.title('Distribution of Valuations across Different Countries')\n",
    "plt.xlabel('Total Valuation ($B)')\n",
    "plt.ylabel('Countries')\n",
    "plt.grid(axis='x', alpha=0.75)\n"
   ]
  },
  {
   "cell_type": "markdown",
   "id": "16e6c16a-b15a-454e-be14-1c253454f995",
   "metadata": {},
   "source": [
    "# Time-Based Analysis\n",
    "\n",
    "## Unicorn Growth Over Time"
   ]
  },
  {
   "cell_type": "code",
   "execution_count": null,
   "id": "28f663e3-5035-4e21-b35b-f0c5a5442647",
   "metadata": {},
   "outputs": [],
   "source": [
    "unicorn_count = df.groupby(df['Unicorn Date'].dt.year).size()\n",
    "plt.figure(figsize=(12, 6))\n",
    "plt.plot(unicorn_count.index, unicorn_count.values, marker='o')\n",
    "plt.title('Number of Unicorns Created Each Year')\n",
    "plt.xlabel('Year')\n",
    "plt.ylabel('Number of Unicorns')\n",
    "plt.xticks(unicorn_count.index, rotation=45)\n",
    "plt.grid()\n"
   ]
  },
  {
   "cell_type": "markdown",
   "id": "82ee53d6-f0c5-4a67-a2b4-d275e47f8997",
   "metadata": {},
   "source": [
    "## Years to Unicorn"
   ]
  },
  {
   "cell_type": "code",
   "execution_count": null,
   "id": "ce84e116-8988-4b04-ac4f-7854e9941eac",
   "metadata": {},
   "outputs": [],
   "source": [
    "# Function to convert \"Years to Unicorn\" into total months\n",
    "def convert_years_to_months(years_str):\n",
    "    if 'y' in years_str and 'm' in years_str:\n",
    "        years, months = years_str.split('y')\n",
    "        months = months.replace('m', '').strip()\n",
    "        return int(years.strip()) * 12 + int(months)\n",
    "    elif 'y' in years_str:\n",
    "        years = years_str.replace('y', '').strip()\n",
    "        return int(years) * 12\n",
    "    elif 'm' in years_str:\n",
    "        months = years_str.replace('mo', '').replace('m', '').strip()\n",
    "        return int(months)\n",
    "    else:\n",
    "        return None\n",
    "\n",
    "df['Years to Unicorn (Months)'] = df['Years to Unicorn'].apply(convert_years_to_months)\n"
   ]
  },
  {
   "cell_type": "code",
   "execution_count": null,
   "id": "93b0b725-78c2-48a4-b486-2c8cff9338df",
   "metadata": {},
   "outputs": [],
   "source": [
    "plt.figure(figsize=(12, 6))\n",
    "plt.hist(df['Years to Unicorn (Months)'].dropna(), bins=30, color='skyblue')\n",
    "plt.title('Distribution of Years to Unicorn')\n",
    "plt.xlabel('Months to Unicorn')\n",
    "plt.ylabel('Number of Unicorns')\n",
    "plt.grid(axis='y', alpha=0.75)\n"
   ]
  }
 ],
 "metadata": {
  "kernelspec": {
   "display_name": "Python 3 (ipykernel)",
   "language": "python",
   "name": "python3"
  },
  "language_info": {
   "codemirror_mode": {
    "name": "ipython",
    "version": 3
   },
   "file_extension": ".py",
   "mimetype": "text/x-python",
   "name": "python",
   "nbconvert_exporter": "python",
   "pygments_lexer": "ipython3",
   "version": "3.13.3"
  }
 },
 "nbformat": 4,
 "nbformat_minor": 5
}
